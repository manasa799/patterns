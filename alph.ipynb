{
 "cells": [
  {
   "cell_type": "code",
   "execution_count": null,
   "id": "0d3240db-ed62-4db5-9c5e-e61677c1515b",
   "metadata": {},
   "outputs": [],
   "source": [
    "n =int(input(\"enter the size\"))\n",
    "matrix=[[0]*n for _ in range(n)]\n",
    "top, left =0,0 \n",
    "right ,bottom = n-1,n-1\n",
    "char =A\n",
    "while top<=bottom and left<=right:\n",
    "    for i in range (left , right+1):\n",
    "        matrix [top][i]=char \n",
    "        char+=1\n",
    "    top+=1\n",
    "    for i in range (top, bottom +1):\n",
    "        matrix[i][right]=char \n",
    "        char+=1\n",
    "    right-=1\n",
    "    for i in range (right,left-1,-1):\n",
    "        matrix[bottom][i]=char\n",
    "        char+=1\n",
    "    bottom-=1\n",
    "    for i in range (bottom ,top-1,-1):\n",
    "        matrix[i][left]=char \n",
    "        char+=1\n",
    "for row in matrix:\n",
    "    for val in row:\n",
    "        print(f\"{val:3}\",end='')\n",
    "    print()"
   ]
  }
 ],
 "metadata": {
  "kernelspec": {
   "display_name": "Python 3 (ipykernel)",
   "language": "python",
   "name": "python3"
  },
  "language_info": {
   "codemirror_mode": {
    "name": "ipython",
    "version": 3
   },
   "file_extension": ".py",
   "mimetype": "text/x-python",
   "name": "python",
   "nbconvert_exporter": "python",
   "pygments_lexer": "ipython3",
   "version": "3.12.7"
  }
 },
 "nbformat": 4,
 "nbformat_minor": 5
}
