{
 "cells": [
  {
   "cell_type": "code",
   "execution_count": null,
   "id": "f54307df-a318-4b62-b8e3-7ccada8e36fd",
   "metadata": {},
   "outputs": [],
   "source": [
    "n =int(input(\"enter the size\"))\n",
    "matrix=[[0]*n for _ in range(n)]\n",
    "top, left =0,0 \n",
    "right ,bottom = n-1,n-1\n",
    "num =1\n",
    "while top<=bottom and left<=right:\n",
    "    for i in range (left , right+1):\n",
    "        matrix [top][i]=num \n",
    "        num+=1\n",
    "    top+=1\n",
    "    for i in range (top, bottom +1):\n",
    "        matrix[i][right]=num \n",
    "        num+=1\n",
    "    right-=1\n",
    "    for i in range (right,left-1,-1):\n",
    "        matrix[bottom][i]=num\n",
    "        num+=1\n",
    "    bottom-=1\n",
    "    for i in range (bottom ,top-1,-1):\n",
    "        matrix[i][left]=num \n",
    "        num+=1\n",
    "for row in matrix:\n",
    "    for val in row:\n",
    "        print(f\"{val:3}\",end='')\n",
    "    print()"
   ]
  }
 ],
 "metadata": {
  "kernelspec": {
   "display_name": "Python 3 (ipykernel)",
   "language": "python",
   "name": "python3"
  },
  "language_info": {
   "codemirror_mode": {
    "name": "ipython",
    "version": 3
   },
   "file_extension": ".py",
   "mimetype": "text/x-python",
   "name": "python",
   "nbconvert_exporter": "python",
   "pygments_lexer": "ipython3",
   "version": "3.12.7"
  }
 },
 "nbformat": 4,
 "nbformat_minor": 5
}
